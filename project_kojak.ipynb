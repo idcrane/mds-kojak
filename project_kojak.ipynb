{
 "metadata": {
  "name": "",
  "signature": "sha256:10f2715172612eb299d87c8451f9fce38c4ff4f3f39e65dc4a33ca4ca8884b6f"
 },
 "nbformat": 3,
 "nbformat_minor": 0,
 "worksheets": [
  {
   "cells": [
    {
     "cell_type": "code",
     "collapsed": false,
     "input": [
      "%load_ext autoreload\n",
      "%autoreload 2\n",
      "%matplotlib inline\n",
      "\n",
      "import spotipy\n",
      "import pyen\n",
      "import os\n",
      "import math\n",
      "import json\n",
      "import urllib2\n",
      "import collections\n",
      "import utils\n",
      "import kojak\n",
      "import pickle\n",
      "import pprint\n",
      "import csv\n",
      "import pandas as pd\n",
      "import random\n",
      "from pymongo import MongoClient\n",
      "import string\n",
      "import matplotlib.pyplot as plt\n",
      "import plotly.plotly as py\n",
      "from plotly.graph_objs import *\n",
      "import plotly.tools as tls\n",
      "\n",
      "home = os.environ['HOME']\n",
      "keypath = home + '/metis/secure/echo_nest_api_key.password'\n",
      "with open(keypath, 'r') as infile:\n",
      "    echo_nest_api_key = infile.read()\n",
      "    \n",
      "sp = spotipy.Spotify()\n",
      "en = pyen.Pyen(echo_nest_api_key)\n",
      "mk = kojak.MusicGrabKojak(en_api_key_path=keypath)\n",
      "\n",
      "client = MongoClient()\n",
      "db = client.dsbc              \n",
      "print db.collection_names()         \n",
      "musicdb = client.dsbc.music\n",
      "\n",
      "def view_albums(artistname):\n",
      "    print \"\"\"# %s Studio Albums\"\"\" % artistname\n",
      "    artistid = mk.echonest_get_spotify_artist_id(artistname)\n",
      "    albums = mk.spotify_get_artist_albums(artistid)\n",
      "    for album in albums:\n",
      "        theid = album['id']\n",
      "        try:\n",
      "            year = musicdb.find_one({'album_id': theid})['custom_album_year']\n",
      "        except TypeError:\n",
      "            continue\n",
      "        name = album['name']\n",
      "        print \"\"\"{\"idnum\": \"%s\", \"year\": \"%i\", \"name\": \"%s\"},\"\"\" % (theid, year, name)"
     ],
     "language": "python",
     "metadata": {},
     "outputs": [
      {
       "output_type": "stream",
       "stream": "stdout",
       "text": [
        "[u'poliblogs', u'system.indexes', u'music']\n"
       ]
      }
     ],
     "prompt_number": 1
    },
    {
     "cell_type": "code",
     "collapsed": false,
     "input": [
      "# Ploting functions (using plotly)\n",
      "def grab_plot_data(field, bandobj, showscatter=True, doscatter=True):\n",
      "    \n",
      "    relevant_fields = ['custom_album_year', 'album_name', 'sp_preview_url', 'en_artist', 'en_title']\n",
      "    relevant_fields.append(field)\n",
      "      \n",
      "    info = bandobj.df\n",
      "\n",
      "    # Get summary statistics for year (album)\n",
      "    \n",
      "    means = []\n",
      "    text = []\n",
      "    describe = bandobj.df.groupby('custom_album_year').describe()\n",
      "    years = sorted(set(info['custom_album_year'].values.tolist()))\n",
      "    \n",
      "    for year in years:\n",
      "        # hacky way to skip over problem data point\n",
      "        if field == 'album_popularity' and year == 2014 and bandobj.artistname == 'Pink Floyd':\n",
      "            continue\n",
      "        means.append(describe[field].ix[year].ix['mean'])\n",
      "#         text.append(describe[])\n",
      "        \n",
      "    # Pull out individual track info\n",
      "    yvals = info[field].values.tolist()\n",
      "    xvals = info['custom_album_year'].values.tolist()\n",
      "    xvals_scatter = xvals # Lazy coding here to turn off slight scatters in x coordinates\n",
      "#     xvals_scatter = [int(value) + random.uniform(-0.12, 0.12) for value in xvals]\n",
      "\n",
      "\n",
      "    # Create text data for hover\n",
      "    urls = info['sp_preview_url'].values.tolist()\n",
      "    tracknames = info['en_title'].values.tolist()\n",
      "    albumnames = info['album_name'].values.tolist()\n",
      "    text = [\"%s<br>%s<br>%s\" % (tracknames[n], albumnames[n], u) for n, u in enumerate(urls)]\n",
      "        \n",
      "    # Set up data for scatter plot and summary plot\n",
      "    summary = Scatter(y=means, x=years, mode='line', name=bandobj.artistname)\n",
      "    data = [summary]\n",
      "    if doscatter: \n",
      "        if showscatter:\n",
      "            scatter = Scatter(y=yvals, x=xvals_scatter, text=text, mode='markers', name=bandobj.artistname)\n",
      "        else:\n",
      "            scatter = Scatter(y=yvals, x=xvals_scatter, text=text, mode='markers', name=bandobj.artistname, visible=False)   \n",
      "        data.append(scatter) \n",
      "    return data\n",
      "  \n",
      "def plot_data(field, bandobjs, bandlist='ALL', filename='Band Plot', **kwargs):   \n",
      "    data = []\n",
      "    for bandobj in bandobjs:\n",
      "        if bandlist == 'ALL' or bandobj.artistname in bandlist:\n",
      "            data += grab_plot_data(field, bandobj, **kwargs)\n",
      "            print bandobj.artistname\n",
      "             \n",
      "    plot_url = py.plot(data, filename=filename)\n",
      "   "
     ],
     "language": "python",
     "metadata": {},
     "outputs": [],
     "prompt_number": 10
    },
    {
     "cell_type": "code",
     "collapsed": false,
     "input": [
      "# help(py.plot)"
     ],
     "language": "python",
     "metadata": {},
     "outputs": [],
     "prompt_number": 3
    },
    {
     "cell_type": "code",
     "collapsed": false,
     "input": [
      "# # View albums by artist in database\n",
      "# view_albums('Simple Minds')"
     ],
     "language": "python",
     "metadata": {},
     "outputs": [],
     "prompt_number": 144
    },
    {
     "cell_type": "markdown",
     "metadata": {},
     "source": [
      "### Set up TrackAnalysis objects for each band"
     ]
    },
    {
     "cell_type": "code",
     "collapsed": false,
     "input": [
      "# Make list of bands in studioalbums file\n",
      "# this instance of TrackAnalysis exists solely to read in the albums file.\n",
      "thewho = kojak.TrackAnalysis('The Who', musicdb)\n",
      "bandlist = list(set([album['artist'] for album in thewho._read_album_file(thewho.album_file)]))\n",
      "shortnames = [filter(str.isalnum, band).lower() for band in bandlist] #What to call instances of Track Analysis\n",
      "\n",
      "# # Create and fill TrackAnalysis instance for each band in bandlist\n",
      "bandobjs = []\n",
      "# First, create TrackAnalysis instance for each band\n",
      "for n, band in enumerate(bandlist):\n",
      "    sn = shortnames[n]\n",
      "    exec_string1 = sn + \"\"\" = kojak.TrackAnalysis('\"\"\" + band + \"\"\"', musicdb)\"\"\"\n",
      "    exec_string2 = \"bandobjs.append(\" + sn + \")\" \n",
      "    exec exec_string1\n",
      "    exec exec_string2\n",
      "# Second, fill each TrackAnalysis instance for each band, and \n",
      "# group by album\n",
      "for n, band in enumerate(bandobjs):\n",
      "    band.create_dataframe()\n",
      "    band.albumgroup = band.df.groupby('album_name')\n",
      "    print \"%i\\t%s\\t%s\" %(n, band.artistname, shortnames[n])"
     ],
     "language": "python",
     "metadata": {},
     "outputs": [
      {
       "output_type": "stream",
       "stream": "stdout",
       "text": [
        "0\tChicago\tchicago\n",
        "1\tVan Halen\tvanhalen"
       ]
      },
      {
       "output_type": "stream",
       "stream": "stdout",
       "text": [
        "\n",
        "2\tCheap Trick\tcheaptrick"
       ]
      },
      {
       "output_type": "stream",
       "stream": "stdout",
       "text": [
        "\n",
        "3\tRed Hot Chili Peppers\tredhotchilipeppers"
       ]
      },
      {
       "output_type": "stream",
       "stream": "stdout",
       "text": [
        "\n",
        "4\tU2\tu2"
       ]
      },
      {
       "output_type": "stream",
       "stream": "stdout",
       "text": [
        "\n",
        "5\tGenesis\tgenesis"
       ]
      },
      {
       "output_type": "stream",
       "stream": "stdout",
       "text": [
        "\n",
        "6\tMotorhead\tmotorhead"
       ]
      },
      {
       "output_type": "stream",
       "stream": "stdout",
       "text": [
        "\n",
        "7\tThe Cure\tthecure"
       ]
      },
      {
       "output_type": "stream",
       "stream": "stdout",
       "text": [
        "\n",
        "8\tGolden Earring\tgoldenearring"
       ]
      },
      {
       "output_type": "stream",
       "stream": "stdout",
       "text": [
        "\n",
        "9\tAerosmith\taerosmith"
       ]
      },
      {
       "output_type": "stream",
       "stream": "stdout",
       "text": [
        "\n",
        "10\tJourney\tjourney"
       ]
      },
      {
       "output_type": "stream",
       "stream": "stdout",
       "text": [
        "\n",
        "11\tKiss\tkiss"
       ]
      },
      {
       "output_type": "stream",
       "stream": "stdout",
       "text": [
        "\n",
        "12\tFleetwood Mac\tfleetwoodmac"
       ]
      },
      {
       "output_type": "stream",
       "stream": "stdout",
       "text": [
        "\n",
        "13\tZZ Top\tzztop"
       ]
      },
      {
       "output_type": "stream",
       "stream": "stdout",
       "text": [
        "\n",
        "14\tMetallica\tmetallica"
       ]
      },
      {
       "output_type": "stream",
       "stream": "stdout",
       "text": [
        "\n",
        "15\tAllman Brothers\tallmanbrothers"
       ]
      },
      {
       "output_type": "stream",
       "stream": "stdout",
       "text": [
        "\n",
        "16\tRush\trush"
       ]
      },
      {
       "output_type": "stream",
       "stream": "stdout",
       "text": [
        "\n",
        "17\tSlayer\tslayer"
       ]
      },
      {
       "output_type": "stream",
       "stream": "stdout",
       "text": [
        "\n",
        "18\tThe Who\tthewho"
       ]
      },
      {
       "output_type": "stream",
       "stream": "stdout",
       "text": [
        "\n",
        "19\tTom Petty and the Heartbreakers\ttompettyandtheheartbreakers"
       ]
      },
      {
       "output_type": "stream",
       "stream": "stdout",
       "text": [
        "\n",
        "20\tThe Eagles\ttheeagles"
       ]
      },
      {
       "output_type": "stream",
       "stream": "stdout",
       "text": [
        "\n",
        "21\tJudas Priest\tjudaspriest"
       ]
      },
      {
       "output_type": "stream",
       "stream": "stdout",
       "text": [
        "\n",
        "22\tThe Beach Boys\tthebeachboys"
       ]
      },
      {
       "output_type": "stream",
       "stream": "stdout",
       "text": [
        "\n",
        "23\tIron Maiden\tironmaiden"
       ]
      },
      {
       "output_type": "stream",
       "stream": "stdout",
       "text": [
        "\n",
        "24\tJethro Tull\tjethrotull"
       ]
      },
      {
       "output_type": "stream",
       "stream": "stdout",
       "text": [
        "\n",
        "25\tSimple Minds\tsimpleminds"
       ]
      },
      {
       "output_type": "stream",
       "stream": "stdout",
       "text": [
        "\n",
        "26\tThe Rolling Stones\ttherollingstones"
       ]
      },
      {
       "output_type": "stream",
       "stream": "stdout",
       "text": [
        "\n",
        "27\tQueen\tqueen"
       ]
      },
      {
       "output_type": "stream",
       "stream": "stdout",
       "text": [
        "\n",
        "28\tPink Floyd\tpinkfloyd"
       ]
      },
      {
       "output_type": "stream",
       "stream": "stdout",
       "text": [
        "\n",
        "29\tYes\tyes"
       ]
      },
      {
       "output_type": "stream",
       "stream": "stdout",
       "text": [
        "\n"
       ]
      }
     ],
     "prompt_number": 3
    },
    {
     "cell_type": "code",
     "collapsed": false,
     "input": [
      "# sorted(bandlist)"
     ],
     "language": "python",
     "metadata": {},
     "outputs": [],
     "prompt_number": 46
    },
    {
     "cell_type": "markdown",
     "metadata": {},
     "source": [
      "### And Plot It"
     ]
    },
    {
     "cell_type": "code",
     "collapsed": false,
     "input": [
      "keepmybands = ['Cheap Trick', 'Genesis', 'Motorhead', 'The Cure', 'Golden Earring', 'Metallica',\n",
      "                  'Slayer', 'Tom Petty and the Heartbreakers', 'Judas Priest', 'Jethro Tull', 'Simple Minds'\n",
      "                  ]\n",
      "bands60s = ['The Who', 'The Rolling Stones', 'Allman Brothers', 'Pink Floyd',\n",
      "            'The Beach Boys', 'YES', 'Jethro Tull', 'Fleetwood Mac', 'Genesis']\n",
      "# bands70s\n",
      "bands80s = ['Slayer', 'U2', 'Iron Maiden', 'Red Hot Chili Peppers']\n",
      "# keepmainbands = keepmybands += []\n",
      "t = plot_data('album_popularity', bandobjs, bandlist=bands80s, doscatter=False, filename='80s Bands Popularity')"
     ],
     "language": "python",
     "metadata": {},
     "outputs": [
      {
       "output_type": "stream",
       "stream": "stdout",
       "text": [
        "Red Hot Chili Peppers\n",
        "U2"
       ]
      },
      {
       "output_type": "stream",
       "stream": "stdout",
       "text": [
        "\n",
        "Slayer"
       ]
      },
      {
       "output_type": "stream",
       "stream": "stdout",
       "text": [
        "\n",
        "Iron Maiden"
       ]
      },
      {
       "output_type": "stream",
       "stream": "stdout",
       "text": [
        "\n"
       ]
      }
     ],
     "prompt_number": 4
    },
    {
     "cell_type": "code",
     "collapsed": false,
     "input": [
      "tempo_bands = ['Genesis', 'Chicago']\n",
      "t = plot_data('en_audio_summary_tempo', bandobjs, bandlist=tempo_bands, filename='Band Tempos 2')"
     ],
     "language": "python",
     "metadata": {},
     "outputs": [
      {
       "output_type": "stream",
       "stream": "stdout",
       "text": [
        "Chicago\n",
        "Genesis"
       ]
      },
      {
       "output_type": "stream",
       "stream": "stdout",
       "text": [
        "\n"
       ]
      }
     ],
     "prompt_number": 12
    },
    {
     "cell_type": "code",
     "collapsed": false,
     "input": [],
     "language": "python",
     "metadata": {},
     "outputs": []
    },
    {
     "cell_type": "code",
     "collapsed": false,
     "input": [
      "print t"
     ],
     "language": "python",
     "metadata": {},
     "outputs": [
      {
       "output_type": "stream",
       "stream": "stdout",
       "text": [
        "None\n"
       ]
      }
     ],
     "prompt_number": 41
    },
    {
     "cell_type": "code",
     "collapsed": false,
     "input": [
      "# thewho.df.head()\n",
      "thewho.df['album_name'].value_counts()"
     ],
     "language": "python",
     "metadata": {},
     "outputs": [
      {
       "metadata": {},
       "output_type": "pyout",
       "prompt_number": 6,
       "text": [
        "My Generation (Deluxe Edition)       30\n",
        "The Who Sell Out (Remastered)        23\n",
        "Tommy (Remastered)                   23\n",
        "Endless Wire                         21\n",
        "A Quick One (Remastered)             20\n",
        "Quadrophenia                         17\n",
        "The Kids Are Alright (Remastered)    17\n",
        "It's Hard                            16\n",
        "Who's Next (Remastered)              16\n",
        "Face Dances (Remastered)             14\n",
        "Who Are You                          14\n",
        "The Who By Numbers                   13\n",
        "dtype: int64"
       ]
      }
     ],
     "prompt_number": 6
    },
    {
     "cell_type": "code",
     "collapsed": false,
     "input": [],
     "language": "python",
     "metadata": {},
     "outputs": [],
     "prompt_number": 4
    },
    {
     "cell_type": "markdown",
     "metadata": {},
     "source": [
      "### Testing Stuff"
     ]
    },
    {
     "cell_type": "code",
     "collapsed": false,
     "input": [
      "audio_summary_test = en.get('song/profile', id=songids[0], bucket='audio_summary')"
     ],
     "language": "python",
     "metadata": {},
     "outputs": [],
     "prompt_number": 235
    },
    {
     "cell_type": "code",
     "collapsed": false,
     "input": [
      "# artist_id = mk.echonest_get_spotify_artist_id('The Who')\n",
      "# basic_album_data = mk.spotify_get_artist_albums(artist_id, country='US')\n",
      "# test = mk.get_all_album_songs(ids[0])\n",
      "\n",
      "# Individual functions\n",
      "# sp_album_info, sp_track_info = mk.spotify_get_album_info(ids[0])\n",
      "# en_track_music_info = mk.echonest_get_all_song_info(track_info[0]['uri'])\n",
      "# track_data = mk.combine_echonest_spotify_track_data(en_track_music_info, sp_track_info[0])"
     ],
     "language": "python",
     "metadata": {},
     "outputs": [],
     "prompt_number": 16
    },
    {
     "cell_type": "markdown",
     "metadata": {},
     "source": [
      "### Database management and creation (if it doesn't already exist)"
     ]
    },
    {
     "cell_type": "code",
     "collapsed": false,
     "input": [
      "bands = ['The Who', 'The Rolling Stones', 'Queen', 'Van Halen', 'Pink Floyd', 'Journey', 'Bon Jovi,'\n",
      "         'Metallica', 'Aerosmith', 'Allman Brothers', 'Grateful Dead--', 'Black Sabbath--', \n",
      "         'The Eagles', 'ZZ Top', 'The Beach Boys', 'Slayer', 'Rush', 'Golden Earring', \n",
      "         'U2', 'Def Leppard', 'Motley Crue', 'Tom Petty and the Heartbreakers', 'Kiss', \n",
      "         'Neil Young Crazy Horse', 'Rush', 'Iron Maiden', 'Motorhead', 'Yes', \n",
      "         'Red Hot Chili Peppers', 'Cheap Trick', 'Judas Priest', 'Jethro Tull', \n",
      "         'Fleetwood Mac', 'Supertramp', 'Chicago', 'Genesis', 'The Cure', 'Poison', \n",
      "         'Simple Minds', \n",
      "         ]\n",
      "no_music_bands = ['Springsteen E Street Band', 'REM', 'Earth Wind and Fire', \n",
      "                  'Huey Lewis and the News']\n",
      "\n",
      "new_bands = ['Flaming Lips', 'Sonic Youth']"
     ],
     "language": "python",
     "metadata": {},
     "outputs": [],
     "prompt_number": 55
    },
    {
     "cell_type": "code",
     "collapsed": false,
     "input": [
      "# Insert albums given band name into database\n",
      "for band in new_bands:\n",
      "    print band\n",
      "    album_ids = mk.get_all_album_ids(band)\n",
      "    if album_ids != None:\n",
      "        for album in album_ids:\n",
      "            mk.get_all_album_songs(album['id'], insert_mongo=True, mongo_collection=musicdb)"
     ],
     "language": "python",
     "metadata": {},
     "outputs": [
      {
       "output_type": "stream",
       "stream": "stdout",
       "text": [
        "Flaming Lips\n",
        "Number of albums found: 27"
       ]
      },
      {
       "output_type": "stream",
       "stream": "stdout",
       "text": [
        "\n",
        "Number of songs inserted into Mongo: 13"
       ]
      },
      {
       "output_type": "stream",
       "stream": "stdout",
       "text": [
        "\n",
        "Number of songs inserted into Mongo: 10"
       ]
      },
      {
       "output_type": "stream",
       "stream": "stdout",
       "text": [
        "\n",
        "Number of songs inserted into Mongo: 10"
       ]
      },
      {
       "output_type": "stream",
       "stream": "stdout",
       "text": [
        "\n",
        "Number of songs inserted into Mongo: 13"
       ]
      },
      {
       "output_type": "stream",
       "stream": "stdout",
       "text": [
        "\n",
        "Number of songs inserted into Mongo: 18"
       ]
      },
      {
       "output_type": "stream",
       "stream": "stdout",
       "text": [
        "\n",
        "Number of songs inserted into Mongo: 20"
       ]
      },
      {
       "output_type": "stream",
       "stream": "stdout",
       "text": [
        "\n",
        "Number of songs inserted into Mongo: 12"
       ]
      },
      {
       "output_type": "stream",
       "stream": "stdout",
       "text": [
        "\n",
        "Number of songs inserted into Mongo: 4"
       ]
      },
      {
       "output_type": "stream",
       "stream": "stdout",
       "text": [
        "\n",
        "Number of songs inserted into Mongo: 15"
       ]
      },
      {
       "output_type": "stream",
       "stream": "stdout",
       "text": [
        "\n",
        "Number of songs inserted into Mongo: 12"
       ]
      },
      {
       "output_type": "stream",
       "stream": "stdout",
       "text": [
        "\n",
        "Number of songs inserted into Mongo: 25"
       ]
      },
      {
       "output_type": "stream",
       "stream": "stdout",
       "text": [
        "\n",
        "Number of songs inserted into Mongo: 7"
       ]
      },
      {
       "output_type": "stream",
       "stream": "stdout",
       "text": [
        "\n",
        "Number of songs inserted into Mongo: 8"
       ]
      },
      {
       "output_type": "stream",
       "stream": "stdout",
       "text": [
        "\n",
        "Number of songs inserted into Mongo: 7"
       ]
      },
      {
       "output_type": "stream",
       "stream": "stdout",
       "text": [
        "\n",
        "Number of songs inserted into Mongo: 11"
       ]
      },
      {
       "output_type": "stream",
       "stream": "stdout",
       "text": [
        "\n",
        "Number of songs inserted into Mongo: 8"
       ]
      },
      {
       "output_type": "stream",
       "stream": "stdout",
       "text": [
        "\n",
        "Number of songs inserted into Mongo: 8"
       ]
      },
      {
       "output_type": "stream",
       "stream": "stdout",
       "text": [
        "\n",
        "Number of songs inserted into Mongo: 14"
       ]
      },
      {
       "output_type": "stream",
       "stream": "stdout",
       "text": [
        "\n",
        "Number of songs inserted into Mongo: 13"
       ]
      },
      {
       "output_type": "stream",
       "stream": "stdout",
       "text": [
        "\n",
        "Number of songs inserted into Mongo: 8"
       ]
      },
      {
       "output_type": "stream",
       "stream": "stdout",
       "text": [
        "\n",
        "Number of songs inserted into Mongo: 11"
       ]
      },
      {
       "output_type": "stream",
       "stream": "stdout",
       "text": [
        "\n",
        "Number of songs inserted into Mongo: 11"
       ]
      },
      {
       "output_type": "stream",
       "stream": "stdout",
       "text": [
        "\n",
        "Number of songs inserted into Mongo: 18"
       ]
      },
      {
       "output_type": "stream",
       "stream": "stdout",
       "text": [
        "\n",
        "Number of songs inserted into Mongo: 10"
       ]
      },
      {
       "output_type": "stream",
       "stream": "stdout",
       "text": [
        "\n",
        "Number of songs inserted into Mongo: 14"
       ]
      },
      {
       "output_type": "stream",
       "stream": "stdout",
       "text": [
        "\n",
        "Number of songs inserted into Mongo: 11"
       ]
      },
      {
       "output_type": "stream",
       "stream": "stdout",
       "text": [
        "\n",
        "Number of songs inserted into Mongo: 11"
       ]
      },
      {
       "output_type": "stream",
       "stream": "stdout",
       "text": [
        "\n",
        "Sonic Youth\n",
        "Number of albums found: 32"
       ]
      },
      {
       "output_type": "stream",
       "stream": "stdout",
       "text": [
        "\n",
        "Number of songs inserted into Mongo: 14"
       ]
      },
      {
       "output_type": "stream",
       "stream": "stdout",
       "text": [
        "\n",
        "Number of songs inserted into Mongo: 13"
       ]
      },
      {
       "output_type": "stream",
       "stream": "stdout",
       "text": [
        "\n",
        "Number of songs inserted into Mongo: 13"
       ]
      },
      {
       "output_type": "stream",
       "stream": "stdout",
       "text": [
        "\n",
        "Number of songs inserted into Mongo: 12"
       ]
      },
      {
       "output_type": "stream",
       "stream": "stdout",
       "text": [
        "\n",
        "Number of songs inserted into Mongo: 16"
       ]
      },
      {
       "output_type": "stream",
       "stream": "stdout",
       "text": [
        "\n",
        "Number of songs inserted into Mongo: 11"
       ]
      },
      {
       "output_type": "stream",
       "stream": "stdout",
       "text": [
        "\n",
        "Number of songs inserted into Mongo: 12"
       ]
      },
      {
       "output_type": "stream",
       "stream": "stdout",
       "text": [
        "\n",
        "Number of songs inserted into Mongo: 13"
       ]
      },
      {
       "output_type": "stream",
       "stream": "stdout",
       "text": [
        "\n",
        "Number of songs inserted into Mongo: 9"
       ]
      },
      {
       "output_type": "stream",
       "stream": "stdout",
       "text": [
        "\n",
        "Number of songs inserted into Mongo: 10"
       ]
      },
      {
       "output_type": "stream",
       "stream": "stdout",
       "text": [
        "\n",
        "Number of songs inserted into Mongo: 8"
       ]
      },
      {
       "output_type": "stream",
       "stream": "stdout",
       "text": [
        "\n",
        "Number of songs inserted into Mongo: 7"
       ]
      },
      {
       "output_type": "stream",
       "stream": "stdout",
       "text": [
        "\n",
        "Number of songs inserted into Mongo: 8"
       ]
      },
      {
       "output_type": "stream",
       "stream": "stdout",
       "text": [
        "\n",
        "Number of songs inserted into Mongo: 12"
       ]
      },
      {
       "output_type": "stream",
       "stream": "stdout",
       "text": [
        "\n",
        "Number of songs inserted into Mongo: 11"
       ]
      },
      {
       "output_type": "stream",
       "stream": "stdout",
       "text": [
        "\n",
        "Number of songs inserted into Mongo: 8"
       ]
      },
      {
       "output_type": "stream",
       "stream": "stdout",
       "text": [
        "\n",
        "Number of songs inserted into Mongo: 11"
       ]
      },
      {
       "output_type": "stream",
       "stream": "stdout",
       "text": [
        "\n",
        "Number of songs inserted into Mongo: 10"
       ]
      },
      {
       "output_type": "stream",
       "stream": "stdout",
       "text": [
        "\n",
        "Number of songs inserted into Mongo: 14"
       ]
      },
      {
       "output_type": "stream",
       "stream": "stdout",
       "text": [
        "\n",
        "Number of songs inserted into Mongo: 15"
       ]
      },
      {
       "output_type": "stream",
       "stream": "stdout",
       "text": [
        "\n",
        "Number of songs inserted into Mongo: 35"
       ]
      },
      {
       "output_type": "stream",
       "stream": "stdout",
       "text": [
        "\n",
        "Number of songs inserted into Mongo: 13"
       ]
      },
      {
       "output_type": "stream",
       "stream": "stdout",
       "text": [
        "\n",
        "Number of songs inserted into Mongo: 18"
       ]
      },
      {
       "output_type": "stream",
       "stream": "stdout",
       "text": [
        "\n",
        "Number of songs inserted into Mongo: 11"
       ]
      },
      {
       "output_type": "stream",
       "stream": "stdout",
       "text": [
        "\n",
        "Number of songs inserted into Mongo: 31"
       ]
      },
      {
       "output_type": "stream",
       "stream": "stdout",
       "text": [
        "\n",
        "Number of songs inserted into Mongo: 14"
       ]
      },
      {
       "output_type": "stream",
       "stream": "stdout",
       "text": [
        "\n",
        "Number of songs inserted into Mongo: 34"
       ]
      },
      {
       "output_type": "stream",
       "stream": "stdout",
       "text": [
        "\n",
        "Number of songs inserted into Mongo: 8"
       ]
      },
      {
       "output_type": "stream",
       "stream": "stdout",
       "text": [
        "\n",
        "Number of songs inserted into Mongo: 11"
       ]
      },
      {
       "output_type": "stream",
       "stream": "stdout",
       "text": [
        "\n",
        "Number of songs inserted into Mongo: 10"
       ]
      },
      {
       "output_type": "stream",
       "stream": "stdout",
       "text": [
        "\n",
        "Number of songs inserted into Mongo: 12"
       ]
      },
      {
       "output_type": "stream",
       "stream": "stdout",
       "text": [
        "\n",
        "Number of songs inserted into Mongo: 13"
       ]
      },
      {
       "output_type": "stream",
       "stream": "stdout",
       "text": [
        "\n"
       ]
      }
     ],
     "prompt_number": 57
    },
    {
     "cell_type": "code",
     "collapsed": false,
     "input": [
      "# # Add in additional fields after gathering from APIs\n",
      "fullcollect  = musicdb.find({}, {\"album_release_date\":1, \"album_artists\":1}, timeout=False)\n",
      "for b in fullcollect:\n",
      "    album_year = int(b['album_release_date'].split('-')[0])\n",
      "    sp_artist_id = b['album_artists'][0]['uri']\n",
      "    musicdb.update({\"_id\": b[\"_id\"]}, {\"$set\": {\"custom_album_year\": album_year}})\n",
      "    musicdb.update({\"_id\": b[\"_id\"]}, {\"$set\": {\"custom_sp_artist_id\": sp_artist_id}})"
     ],
     "language": "python",
     "metadata": {},
     "outputs": [],
     "prompt_number": 54
    },
    {
     "cell_type": "code",
     "collapsed": false,
     "input": [
      "# # Index on album_index\n",
      "musicdb.ensure_index(\"custom_sp_artist_id\")\n",
      "musicdb.ensure_index(\"custom_album_year\")\n",
      "musicdb.ensure_index(\"album_id\")"
     ],
     "language": "python",
     "metadata": {},
     "outputs": [
      {
       "metadata": {},
       "output_type": "pyout",
       "prompt_number": 7,
       "text": [
        "u'album_id_1'"
       ]
      }
     ],
     "prompt_number": 7
    },
    {
     "cell_type": "code",
     "collapsed": false,
     "input": [
      "# musicdb.remove({})\n",
      "musicdb.count()"
     ],
     "language": "python",
     "metadata": {},
     "outputs": [
      {
       "metadata": {},
       "output_type": "pyout",
       "prompt_number": 54,
       "text": [
        "16087"
       ]
      }
     ],
     "prompt_number": 54
    },
    {
     "cell_type": "code",
     "collapsed": false,
     "input": [],
     "language": "python",
     "metadata": {},
     "outputs": []
    },
    {
     "cell_type": "markdown",
     "metadata": {},
     "source": [
      "### Old Snips"
     ]
    },
    {
     "cell_type": "code",
     "collapsed": false,
     "input": [
      "def get_songids_by_artist(artist_name, en_api_object, verbose=True):\n",
      "    \"\"\"Gets Echo Nest song ids for all songs by given artist.\n",
      "       Requires an instance of pyen.Pyen() from the pyen module.\n",
      "    \"\"\"\n",
      "    ids = []\n",
      "    results_per_request = 100 # 100 is Echo Nest API maximum\n",
      "    \n",
      "    num_requests = 1\n",
      "    start = 0\n",
      "    request_num = 0\n",
      "    while request_num <= num_requests:\n",
      "        response = en_api_object.get('artist/songs', name = artist_name, results=results_per_request, start=start)\n",
      "        num_requests = response['total']/results_per_request\n",
      "        for i, song in enumerate(response['songs']):\n",
      "            ids.append(song['id'])\n",
      "        request_num += 1\n",
      "        start = start + results_per_request\n",
      "        if verbose:\n",
      "            print \"Retrieved %i / %i song ids\" % (len(ids), response['total'])\n",
      "    return ids"
     ],
     "language": "python",
     "metadata": {},
     "outputs": [],
     "prompt_number": 39
    },
    {
     "cell_type": "code",
     "collapsed": false,
     "input": [
      "## This still has box plot code in it. I've taken it out of the other version.\n",
      "\n",
      "def plot_data(field, bandobjs):\n",
      "    \n",
      "    relevant_fields = ['custom_album_year', 'album_name', 'sp_preview_url', 'en_artist', 'en_title']\n",
      "    relevant_fields.append(field)\n",
      "\n",
      "#     for b in bandobjs:\n",
      "    \n",
      "    # Get data for each year\n",
      "    \n",
      "    # for loop exists so it's easier to set up boxplots, thought those were later abandoned.\n",
      "    # Box plots require seperate trace object for each x value of points -- hence they must\n",
      "    # be split up by year. Will require more work then uncommenting / changing indentation\n",
      "    # to get it to work.\n",
      "#     for year in range(1969, 1970):\n",
      "    # Pull out relevant data\n",
      "        # info = bandobjs.df[bandobjs.df['custom_album_year'] == year] # needed for box plots\n",
      "    info = bandobjs.df # needed for scatter plots\n",
      "    albumgroup = bandobjs.df.groupby('album_name')\n",
      "    \n",
      "    \n",
      "    yvals = info[field].values.tolist()\n",
      "    xvals = info['custom_album_year'].values.tolist()\n",
      "    xvals_scatter = [int(value) + random.uniform(-0.25, 0.25) for value in xvals]\n",
      "\n",
      "    # Create text data for hover\n",
      "    urls = info['sp_preview_url'].values.tolist()\n",
      "    tracknames = info['en_title'].values.tolist()\n",
      "    albumnames = info['album_name'].values.tolist()\n",
      "    text = [\"%s\\n%s\\n%s\" % (tracknames[n], albumnames[n], u) for n, u in enumerate(urls)]\n",
      "        \n",
      "        \n",
      "        # Neeeded for box plots\n",
      "        # bstring_box = \"Box(y=\" + str(yvals) + \", x0=\" + str(year) + \", boxpoints='all', jitter=0.3, pointpos=-1.8)\"\n",
      "    data = [Scatter(y=yvals, x=xvals_scatter, text=text, mode='markers')]\n",
      "    \n",
      "#     data.append(bstring_scatter)\n",
      "    # (end for loop)\n",
      "    \n",
      "    # Create Scatter objects\n",
      "#     for n, bstr in enumerate(data):\n",
      "    plot_url = py.plot(data, filename='scatter_test')\n",
      "    return plot_url\n",
      "    \n",
      "t = plot_data('en_audio_summary_tempo', thewho)\n"
     ],
     "language": "python",
     "metadata": {},
     "outputs": [],
     "prompt_number": 270
    },
    {
     "cell_type": "code",
     "collapsed": false,
     "input": [],
     "language": "python",
     "metadata": {},
     "outputs": []
    }
   ],
   "metadata": {}
  }
 ]
}